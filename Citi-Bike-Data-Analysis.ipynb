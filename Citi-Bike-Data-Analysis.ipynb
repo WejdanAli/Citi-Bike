{
 "cells": [
  {
   "cell_type": "markdown",
   "metadata": {},
   "source": [
    "# Citi Bike Data Analysis\n",
    "\n",
    "This is an analysis of the Citi Bike bike sharing program, which operaties in New York City. Of all the Citi Bike stations, we want to know which is the most popular, so that we can focus our attention on that station for further data analysis. Using open data, we count the number of times that each station appears as either a start station or end station on a trip, and we identify the most popular station as Pershing Square North, with 12,810 entries in January 2016, and so we can focus on this station for further analysis."
   ]
  },
  {
   "cell_type": "code",
   "execution_count": 23,
   "metadata": {
    "collapsed": false
   },
   "outputs": [
    {
     "name": "stdout",
     "output_type": "stream",
     "text": [
      "The most pupular stations is Pershing Square North with 12810 entries.\n"
     ]
    }
   ],
   "source": [
    "import csv\n",
    "\n",
    "stations=[]\n",
    "filename='/home/jl7333/Citi-Bike/data/201601-data.csv'\n",
    "with open(filename,'r') as csvfile:\n",
    "    filereader=csv.reader(csvfile,delimiter=',')\n",
    "    header=next(filereader)\n",
    "    for row in filereader:\n",
    "        stations.append(row[4])\n",
    "        stations.append(row[8])\n",
    "\n",
    "counts={}\n",
    "uniquestations=set(stations)\n",
    "for station in uniquestations:\n",
    "    counts[station]=stations.count(station)\n",
    "\n",
    "maxcount=0\n",
    "maxstation=\"\"\n",
    "for key in counts:\n",
    "    if counts[key]>=maxcount:\n",
    "        maxcount=counts[key]\n",
    "        maxstation=key\n",
    "        \n",
    "print('The most pupular stations is',maxstation,'with',maxcount,'entries.')\n"
   ]
  },
  {
   "cell_type": "code",
   "execution_count": null,
   "metadata": {
    "collapsed": true
   },
   "outputs": [],
   "source": []
  }
 ],
 "metadata": {
  "kernelspec": {
   "display_name": "Python 3",
   "language": "python",
   "name": "python3"
  },
  "language_info": {
   "codemirror_mode": {
    "name": "ipython",
    "version": 3
   },
   "file_extension": ".py",
   "mimetype": "text/x-python",
   "name": "python",
   "nbconvert_exporter": "python",
   "pygments_lexer": "ipython3",
   "version": "3.4.3"
  }
 },
 "nbformat": 4,
 "nbformat_minor": 1
}
